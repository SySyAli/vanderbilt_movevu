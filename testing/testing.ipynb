{
 "cells": [
  {
   "cell_type": "markdown",
   "metadata": {},
   "source": [
    "# File Information\n",
    "\n",
    "- **Filename:** testing.py\n",
    "- **Project:** Vanderbilt MoveVU Data Analysis and Server\n",
    "- **Author:** Syed Ali\n",
    "- **Description:** This file contains the code for testing the data analysis on the Q2 Vanderbilt WeGo Data.\n",
    "\n",
    "# Detailed Analysis\n",
    "\n",
    "## WeGo Test Data Analysis Priorities\n",
    "\n",
    "- Transit Ridership (total VU Rides on WeGo)\n",
    "  - Year over year, month to month comparison\n",
    "  - Analysis period: 2019 to present\n",
    "- VU Rides on local WeGo services\n",
    "- VU Rides on Regional Transit Authority (RTA)\n",
    "- VU Rides on WeGo Access\n",
    "- Top 6 VU Ridership by Routes, including changes over time\n",
    "- Total VU Rides on WeGo by University Roles (Faculty, Staff, Grad/Professional, Undergrad)\n",
    "  - By class, Freshman, Sophomore, etc.\n",
    "  - By school\n",
    "  - By division\n",
    "\n",
    "# Data Schema\n",
    "\n",
    "- CARDOFFICE_CARD_NUMBER\n",
    "- CAMPUS_ID\n",
    "- FIRST_NAME\n",
    "- LAST_NAME\n",
    "- EMPLOYEE_OR_STUDENT\n",
    "- CARD_ID_STATUS\n",
    "- RIDE_DATE\n",
    "- BUS\n",
    "- ROUTE\n",
    "- RUN\n",
    "- GPR_CORE_ID\n",
    "- CREATE_DATE\n"
   ]
  },
  {
   "cell_type": "code",
   "execution_count": 32,
   "metadata": {},
   "outputs": [],
   "source": [
    "import pandas as pd"
   ]
  },
  {
   "cell_type": "code",
   "execution_count": 35,
   "metadata": {},
   "outputs": [
    {
     "name": "stdout",
     "output_type": "stream",
     "text": [
      "Data Fields: ['CARDOFFICE_CARD_NUMBER' 'CAMPUS_ID' 'FIRST_NAME' 'LAST_NAME'\n",
      " 'EMPLOYEE_OR_STUDENT' 'CARD_ID_STATUS' 'RIDE_DATE' 'BUS' 'ROUTE' 'RUN'\n",
      " 'GPR_CORE_ID' 'CREATE_DATE']\n",
      "Total Number of Vanderbilt Scans in the We Go Bus System: 88310\n"
     ]
    }
   ],
   "source": [
    "TESTING_BUS_FILE_CSV = \"WeGoAllData.csv\"\n",
    "# Q2 DATA ANALYSIS\n",
    "# Reading CSV data into a Pandas DataFrame\n",
    "df = pd.read_csv(TESTING_BUS_FILE_CSV)\n",
    "\n",
    "print(\"Data Fields:\", df.columns.values)\n",
    "print(\"Total Number of Vanderbilt Scans in the We Go Bus System:\", df.shape[0])"
   ]
  },
  {
   "cell_type": "code",
   "execution_count": 33,
   "metadata": {},
   "outputs": [],
   "source": [
    "# Data Cleaning First!\n",
    "# general analysis \n",
    "# remove anyone with an empty bus, route, run, ride_date, and invalid route"
   ]
  },
  {
   "cell_type": "code",
   "execution_count": 34,
   "metadata": {},
   "outputs": [],
   "source": [
    "# total VU Rides on WeGo - month to month comparison\n",
    "\n",
    "# total VU Rides on local WeGo services\n",
    "# total VU Rides on Regional Transit Authority (RTA)\n",
    "# total VU Rides on WeGo Access\n",
    "# Top 6 VU Ridership by Routes - and if it has changed over time\n",
    "# Total VU Rides on WeGo by University Roles (Faculty, Staff, Grad/Professional, Undergrad)\n",
    "# By class, Freshman, Sophomore, etc., school, division"
   ]
  }
 ],
 "metadata": {
  "kernelspec": {
   "display_name": "vanderbilt_movevu",
   "language": "python",
   "name": "python3"
  },
  "language_info": {
   "codemirror_mode": {
    "name": "ipython",
    "version": 3
   },
   "file_extension": ".py",
   "mimetype": "text/x-python",
   "name": "python",
   "nbconvert_exporter": "python",
   "pygments_lexer": "ipython3",
   "version": "3.12.0"
  }
 },
 "nbformat": 4,
 "nbformat_minor": 2
}
