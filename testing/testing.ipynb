{
 "cells": [
  {
   "cell_type": "markdown",
   "metadata": {},
   "source": [
    "# File Information\n",
    "\n",
    "- **Filename:** testing.py\n",
    "- **Project:** Vanderbilt MoveVU Data Analysis and Server\n",
    "- **Author:** Syed Ali\n",
    "- **Description:** This file contains the code for testing the data analysis on the Q2 Vanderbilt WeGo Data.\n",
    "- **Detailed Analysis**\n",
    "\n",
    "## Detailed WeGo Test Data Analysis Priorities\n",
    "\n",
    "- Transit Ridership (total VU Rides on WeGo)\n",
    "  - Year over year, month to month comparison\n",
    "  - Analysis period: 2019 to present\n",
    "- VU Rides on local WeGo services\n",
    "- VU Rides on Regional Transit Authority (RTA)\n",
    "- VU Rides on WeGo Access\n",
    "- Top 6 VU Ridership by Routes, including changes over time\n",
    "- Total VU Rides on WeGo by University Roles (Faculty, Staff, Grad/Professional, Undergrad)\n",
    "  - By class, Freshman, Sophomore, etc.\n",
    "  - By school\n",
    "  - By division\n",
    "\n",
    "## Data Schema\n",
    "\n",
    "- CARDOFFICE_CARD_NUMBER\n",
    "- CAMPUS_ID\n",
    "- FIRST_NAME\n",
    "- LAST_NAME\n",
    "- EMPLOYEE_OR_STUDENT\n",
    "- CARD_ID_STATUS\n",
    "- RIDE_DATE\n",
    "- BUS\n",
    "- ROUTE\n",
    "- RUN\n",
    "- GPR_CORE_ID\n",
    "- CREATE_DATE\n"
   ]
  },
  {
   "cell_type": "code",
   "execution_count": 32,
   "metadata": {},
   "outputs": [],
   "source": [
    "import pandas as pd"
   ]
  },
  {
   "cell_type": "code",
   "execution_count": 35,
   "metadata": {},
   "outputs": [
    {
     "name": "stdout",
     "output_type": "stream",
     "text": [
      "Data Fields: ['CARDOFFICE_CARD_NUMBER' 'CAMPUS_ID' 'FIRST_NAME' 'LAST_NAME'\n",
      " 'EMPLOYEE_OR_STUDENT' 'CARD_ID_STATUS' 'RIDE_DATE' 'BUS' 'ROUTE' 'RUN'\n",
      " 'GPR_CORE_ID' 'CREATE_DATE']\n",
      "Total Number of Vanderbilt Scans in the We Go Bus System: 88310\n"
     ]
    }
   ],
   "source": [
    "TESTING_BUS_FILE_CSV = \"WeGoAllData.csv\"\n",
    "# Q2 DATA ANALYSIS\n",
    "# Reading CSV data into a Pandas DataFrame\n",
    "df = pd.read_csv(TESTING_BUS_FILE_CSV)\n",
    "\n",
    "print(\"Data Fields:\", df.columns.values)\n",
    "print(\"Total Number of Vanderbilt Scans in the We Go Bus System:\", df.shape[0])"
   ]
  },
  {
   "cell_type": "code",
   "execution_count": 63,
   "metadata": {},
   "outputs": [
    {
     "name": "stdout",
     "output_type": "stream",
     "text": [
      "{3: 'West_End', 22: 'Bordeaux', 23: 'Dickerson_Pike', 50: 'Charlotte_Pike', 52: 'Nolansville_Pike', 55: 'Murfreesboro_Pike', 56: 'Gallatin_Pike', 4: 'Shelby', 6: 'Lebanon_Pike', 7: 'Hillsboro_Pike', 8: '8th_Avenue_South', 9: 'MetroCenter', 14: 'Whites_Creek', 17: '12th_Avenue_South', 18: 'Airport', 19: 'Herman', 28: 'Meridian', 29: 'Jefferson', 34: 'Opry Mills', 41: 'Golden Valley', 42: 'St._Cecilia/Cumberland', 70: 'Bellevue', 75: 'Midtown', 76: 'Madison', 77: 'Thompson/Wedgewood', 79: 'Skyline', 84: 'Murfreesboro', 86: 'Smyrna/La_Vergne', 87: 'Gallatin/Hendersonville', 88: 'Dickson', 89: 'Springfield/Joelton', 94: 'Clarksville', 95: 'Spring_Hill/Franklin', 64: 'Star_Downtown_Shuttle', 93: 'Star_West_End_Shuttle'}\n",
      "Unique Routes: [ 3  4  6  7  8  9 14 16 17 18 19 22 23 27 28 29 34 41 42 47 48 50 52 55\n",
      " 56 59 75 76 77 79 84 86 87 88 89 93 94 95 97 98 99]\n",
      "Missing Routes: [16, 27, 47, 48, 59, 97, 98, 99]\n"
     ]
    }
   ],
   "source": [
    "# Setting up Nashville's Bus Route as a Dictionary\n",
    "\n",
    "WEGO_FREQUENT_SERVICE = {\n",
    "    3: \"West_End\",\n",
    "    22: \"Bordeaux\",\n",
    "    23: \"Dickerson_Pike\",\n",
    "    50: \"Charlotte_Pike\",\n",
    "    52: \"Nolansville_Pike\",\n",
    "    55: \"Murfreesboro_Pike\",\n",
    "    56: \"Gallatin_Pike\"\n",
    "}\n",
    "\n",
    "WEGO_LOCAL_SERVICE = {\n",
    "    4: \"Shelby\",\n",
    "    6: \"Lebanon_Pike\",\n",
    "    7: \"Hillsboro_Pike\",\n",
    "    8: \"8th_Avenue_South\",\n",
    "    9: \"MetroCenter\",\n",
    "    14: \"Whites_Creek\",\n",
    "    17: \"12th_Avenue_South\",\n",
    "    18: \"Airport\",\n",
    "    19: \"Herman\",\n",
    "    28: \"Meridian\",\n",
    "    29: \"Jefferson\",\n",
    "    34: \"Opry Mills\",\n",
    "    41: \"Golden Valley\",\n",
    "    42: \"St._Cecilia/Cumberland\"\n",
    "}\n",
    "\n",
    "WEGO_CONNECTOR_SERVICE = {\n",
    "    70: \"Bellevue\",\n",
    "    75: \"Midtown\",\n",
    "    76: \"Madison\",\n",
    "    77: \"Thompson/Wedgewood\",\n",
    "    79: \"Skyline\"\n",
    "}\n",
    "\n",
    "WEGO_EXPRESS_SERVICE = {\n",
    "    84: \"Murfreesboro\",\n",
    "    86: \"Smyrna/La_Vergne\",\n",
    "    87: \"Gallatin/Hendersonville\",\n",
    "    88: \"Dickson\",\n",
    "    89: \"Springfield/Joelton\",\n",
    "    94: \"Clarksville\",\n",
    "    95: \"Spring_Hill/Franklin\"\n",
    "}\n",
    "\n",
    "# TODO need to find the number for the train system and other missing routes\n",
    "WEGO_TRAIN_SERVICE = {\n",
    "    64: \"Star_Downtown_Shuttle\",\n",
    "    93: \"Star_West_End_Shuttle\"\n",
    "}\n",
    "\n",
    "WEGO_ALL_ROUTES = {**WEGO_FREQUENT_SERVICE, **WEGO_LOCAL_SERVICE, **WEGO_CONNECTOR_SERVICE, **WEGO_EXPRESS_SERVICE, **WEGO_TRAIN_SERVICE}\n",
    "print(WEGO_ALL_ROUTES)\n",
    "\n",
    "# checking unique routes from the data\n",
    "unique_routes = df['ROUTE'].unique()\n",
    "unique_routes.sort()\n",
    "print(\"Unique Routes:\", unique_routes)\n",
    "set_unique_routes = set(unique_routes)\n",
    "# seeing what routes are missing from the dictionary\n",
    "missing_routes_set = set_unique_routes - set(WEGO_ALL_ROUTES.keys())\n",
    "missing_routes = list(missing_routes_set)\n",
    "missing_routes.sort()\n",
    "print(\"Missing Routes:\", missing_routes)\n",
    "\n"
   ]
  },
  {
   "cell_type": "code",
   "execution_count": 60,
   "metadata": {},
   "outputs": [
    {
     "name": "stdout",
     "output_type": "stream",
     "text": [
      "Total Number of Vanderbilt Scans in the We Go Bus System: 88310\n"
     ]
    }
   ],
   "source": [
    "# Data Cleaning First!\n",
    "# general analysis\n",
    "# Remove rows with missing values in specific columns (bus, route, run, ride_date)\n",
    "columns_to_check = ['RIDE_DATE', 'BUS', 'ROUTE', 'RUN']\n",
    "df = df.dropna(subset=columns_to_check)\n",
    "\n",
    "# Check how many entries remain\n",
    "print(\"Total Number of Vanderbilt Scans in the We Go Bus System:\", df.shape[0])\n",
    "\n",
    "# TODO: Update this when route clarification is given\n",
    "# Remove Rows with Invalid Bus Route \n",
    "\n"
   ]
  },
  {
   "cell_type": "code",
   "execution_count": 61,
   "metadata": {},
   "outputs": [],
   "source": [
    "# total VU Rides on WeGo - month to month comparison\n",
    "\n",
    "# total VU Rides on local WeGo services\n",
    "# total VU Rides on Regional Transit Authority (RTA)\n",
    "# total VU Rides on WeGo Access\n",
    "# Top 6 VU Ridership by Routes - and if it has changed over time\n",
    "# Total VU Rides on WeGo by University Roles (Faculty, Staff, Grad/Professional, Undergrad)\n",
    "# By class, Freshman, Sophomore, etc., school, division"
   ]
  }
 ],
 "metadata": {
  "kernelspec": {
   "display_name": "vanderbilt_movevu",
   "language": "python",
   "name": "python3"
  },
  "language_info": {
   "codemirror_mode": {
    "name": "ipython",
    "version": 3
   },
   "file_extension": ".py",
   "mimetype": "text/x-python",
   "name": "python",
   "nbconvert_exporter": "python",
   "pygments_lexer": "ipython3",
   "version": "3.12.0"
  }
 },
 "nbformat": 4,
 "nbformat_minor": 2
}
