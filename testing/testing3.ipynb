{
 "cells": [
  {
   "cell_type": "code",
   "execution_count": 54,
   "metadata": {},
   "outputs": [],
   "source": [
    "import pandas as pd"
   ]
  },
  {
   "cell_type": "code",
   "execution_count": 112,
   "metadata": {},
   "outputs": [
    {
     "name": "stderr",
     "output_type": "stream",
     "text": [
      "C:\\Users\\syeda\\AppData\\Local\\Temp\\ipykernel_35680\\1075164422.py:6: DtypeWarning: Columns (11) have mixed types. Specify dtype option on import or set low_memory=False.\n",
      "  df2 = pd.read_csv(csv_files[1], usecols=[\"ROUTE\", \"CARDOFFICE_CARD_NUMBER\", \"FIRST_NAME\", \"LAST_NAME\", \"EMPLOYEE_OR_STUDENT\", \"CARD_ID_STATUS\", \"RIDE_DATE\", \"BUS\", \"ROUTE\", \"RUN\", \"RT_AREA\", \"CAMPUS_ID\", \"RTA_COUNT\", \"WEGO_COUNT\"])\n"
     ]
    },
    {
     "name": "stdout",
     "output_type": "stream",
     "text": [
      "Data Fields: ['CARDOFFICE_CARD_NUMBER' 'CARD_ID_STATUS' 'RIDE_DATE' 'BUS' 'ROUTE' 'RUN'\n",
      " 'RT_AREA' 'RTA_COUNT' 'WEGO_COUNT' 'FIRST_NAME' 'LAST_NAME'\n",
      " 'EMPLOYEE_OR_STUDENT' 'CAMPUS_ID']\n",
      "Total Number of Vanderbilt Scans in the We Go Bus System: 1863442\n"
     ]
    }
   ],
   "source": [
    "# Array of CSV files\n",
    "csv_files = [\"../csv/MoveVU_2017_2020.csv\", \"../csv/MoveVU_2020_2022.csv\", \"../csv/MoveVU_2022_Oct2023.csv\", \"../csv/MoveVU_Oct2023_Dec2023.csv\"]\n",
    "\n",
    "df1 = pd.read_csv(csv_files[0], usecols=[\"ROUTE\", \"CARDOFFICE_CARD_NUMBER\", \"CARD_ID_STATUS\", \"RIDE_DATE\", \"BUS\", \"ROUTE\", \"RUN\", \"RT_AREA\", \"RTA_COUNT\", \"WEGO_COUNT\", \"FIRST_NAME\", \"LAST_NAME\", \"EMPLOYEE_OR_STUDENT\", \"CAMPUS_ID\"])\n",
    "\n",
    "df2 = pd.read_csv(csv_files[1], usecols=[\"ROUTE\", \"CARDOFFICE_CARD_NUMBER\", \"FIRST_NAME\", \"LAST_NAME\", \"EMPLOYEE_OR_STUDENT\", \"CARD_ID_STATUS\", \"RIDE_DATE\", \"BUS\", \"ROUTE\", \"RUN\", \"RT_AREA\", \"CAMPUS_ID\", \"RTA_COUNT\", \"WEGO_COUNT\"])\n",
    "\n",
    "df3 = pd.read_csv(csv_files[2], usecols=[\"ROUTE\", \"CARDOFFICE_CARD_NUMBER\", \"FIRST_NAME\", \"LAST_NAME\", \"EMPLOYEE_OR_STUDENT\", \"CARD_ID_STATUS\", \"RIDE_DATE\", \"BUS\", \"ROUTE\", \"RUN\", \"RT_AREA\", \"CAMPUS_ID\", \"RTA_COUNT\", \"WEGO_COUNT\"])\n",
    "\n",
    "df4 = pd.read_csv(csv_files[3], usecols=[\"ROUTE\", \"CARDOFFICE_CARD_NUMBER\", \"FIRST_NAME\", \"LAST_NAME\", \"EMPLOYEE_OR_STUDENT\", \"CARD_ID_STATUS\", \"RIDE_DATE\", \"BUS\", \"ROUTE\", \"RUN\", \"RT_AREA\", \"CAMPUS_ID\", \"RTA_COUNT\", \"WEGO_COUNT\"])\n",
    "\n",
    "frames = [df1, df2, df3, df4]\n",
    "df = pd.concat(frames, ignore_index=True)\n",
    "\n",
    "# Converting the \"RIDE_DATE\" columns to datetime objects\n",
    "df['RIDE_DATE'] = pd.to_datetime(df['RIDE_DATE'])\n",
    "\n",
    "print(\"Data Fields:\", df.columns.values)\n",
    "print(\"Total Number of Vanderbilt Scans in the We Go Bus System:\", df.shape[0])\n",
    "\n",
    "# remove duplicates\n",
    "df = df.drop_duplicates()"
   ]
  },
  {
   "cell_type": "code",
   "execution_count": 116,
   "metadata": {},
   "outputs": [
    {
     "name": "stdout",
     "output_type": "stream",
     "text": [
      "Total Number of Vanderbilt Scans in the We Go Bus System in 2023: 344962\n",
      "Number of unique CAMPUS_ID in 2023: 5065\n"
     ]
    }
   ],
   "source": [
    "df2023 = df[df['RIDE_DATE'] > '2023-01-01']\n",
    "print(\"Total Number of Vanderbilt Scans in the We Go Bus System in 2023:\", df2023.shape[0])\n",
    "\n",
    "dfcolumns_to_check = ['CAMPUS_ID', 'FIRST_NAME', 'LAST_NAME', 'EMPLOYEE_OR_STUDENT']\n",
    "df2023_cleaned = df2023.dropna(subset=dfcolumns_to_check)\n",
    "\n",
    "# number of unique CAMPUS_ID\n",
    "print(\"Number of unique CAMPUS_ID in 2023:\", df2023_cleaned['CAMPUS_ID'].nunique())\n",
    "# export a csv into the csv folder of the top 1000 riders based upon campus_ID, also include CAMPUS_ID,FIRST_NAME,LAST_NAME,EMPLOYEE_OR_STUDENT. also include the routes they have ridden\n",
    "# include CAMPUS_ID,FIRST_NAME,LAST_NAME,EMPLOYEE_OR_STUDENT,ROUTE\n",
    "df2023_cleaned = df2023_cleaned.drop(columns=['RTA_COUNT', 'WEGO_COUNT', 'CARD_ID_STATUS', 'RIDE_DATE', 'CARDOFFICE_CARD_NUMBER', 'RT_AREA', 'RUN', 'BUS'])\n",
    "# add the count of the number of times a person has ridden the bus\n",
    "df2023_cleaned['COUNT'] = df2023_cleaned.groupby('CAMPUS_ID')['CAMPUS_ID'].transform('count')\n",
    "\n",
    "df_unique_routes = df2023_cleaned.groupby('CAMPUS_ID')['ROUTE'].apply(lambda x: sorted([route for route in pd.unique(x) if pd.notnull(route)])).reset_index(name='ROUTES_ARR')\n",
    "\n",
    "df2023_cleaned = df2023_cleaned.drop(columns=['ROUTE'], errors='ignore')\n",
    "df2023_with_routes = df2023_cleaned.drop_duplicates(subset=['CAMPUS_ID'])\n",
    "df2023_with_routes = df2023_cleaned.merge(df_unique_routes, on='CAMPUS_ID', how='left')\n",
    "\n",
    "# sort the dataframe by the number of times a person has ridden the bus\n",
    "df2023_with_routes = df2023_with_routes.sort_values(by='COUNT', ascending=False)\n",
    "df2023.drop_duplicates(subset=['CAMPUS_ID'])\n",
    "# remove the duplicates from df2023_with_routes\n",
    "df2023_with_routes = df2023_with_routes.drop_duplicates(subset=['CAMPUS_ID'])\n",
    "# export to a csv\n",
    "df2023_with_routes.to_csv('../csv/All_Riders_2023.csv', index=False)"
   ]
  },
  {
   "cell_type": "code",
   "execution_count": 114,
   "metadata": {},
   "outputs": [
    {
     "name": "stdout",
     "output_type": "stream",
     "text": [
      "Max Date MM-YY 2023-12\n",
      "['2019-12' '2019-11' '2019-10' '2019-09' '2019-08' '2019-07' '2019-06'\n",
      " '2019-05' '2019-04' '2019-03' '2019-02' '2019-01' '2018-12' '2018-11'\n",
      " '2018-10' '2018-09' '2018-08' '2018-07' '2018-06' '2018-05' '2018-04'\n",
      " '2018-03' '2018-02' '2018-01' '2017-12' '2017-11' '2017-10' '2017-09'\n",
      " '2017-08' '2017-07' '2017-06' '2017-05' '2017-04' '2017-03' '2017-02'\n",
      " '2017-01' '2021-12' '2021-11' '2021-10' '2021-09' '2021-08' '2021-07'\n",
      " '2021-06' '2021-05' '2021-04' '2021-03' '2021-02' '2021-01' '2020-12'\n",
      " '2020-11' '2020-10' '2020-09' '2020-08' '2020-07' '2020-06' '2020-05'\n",
      " '2020-04' '2020-03' '2020-02' '2020-01' '2023-09' '2023-08' '2023-07'\n",
      " '2023-06' '2023-05' '2023-04' '2023-03' '2023-02' '2023-01' '2022-12'\n",
      " '2022-11' '2022-10' '2022-09' '2022-08' '2022-07' '2022-06' '2022-05'\n",
      " '2022-04' '2022-03' '2022-02' '2022-01' '2023-12' '2023-11' '2023-10']\n"
     ]
    }
   ],
   "source": [
    "df['MONTH_YEAR'] = df['RIDE_DATE'].dt.strftime('%Y-%m')\n",
    "\n",
    "print(\"Max Date MM-YY\", df['MONTH_YEAR'].max())\n",
    "print(df['MONTH_YEAR'].unique())"
   ]
  },
  {
   "cell_type": "code",
   "execution_count": 115,
   "metadata": {},
   "outputs": [
    {
     "name": "stdout",
     "output_type": "stream",
     "text": [
      "Pre_grouping ['2023-12' '2023-11' '2023-10']\n",
      "check_pre_grouping         CARDOFFICE_CARD_NUMBER CARD_ID_STATUS                 RIDE_DATE   BUS  \\\n",
      "1773392     393551194=37232=03        UNKNOWN 2023-12-30 23:26:41+00:00  2167   \n",
      "1773393     730009548=37232=01         ACTIVE 2023-12-30 23:13:47+00:00  1909   \n",
      "1773394     731553190=37232=01        UNKNOWN 2023-12-30 23:11:47+00:00   726   \n",
      "1773395     788557875=37232=00        UNKNOWN 2023-12-30 22:41:45+00:00  1914   \n",
      "1773396     385008873=37232=01       INACTIVE 2023-12-30 22:27:20+00:00  1904   \n",
      "...                        ...            ...                       ...   ...   \n",
      "1773487     725553674=37232=00        UNKNOWN 2023-12-30 16:35:03+00:00  2008   \n",
      "1773488     335557782=37232=02        UNKNOWN 2023-12-30 16:17:49+00:00   137   \n",
      "1773489     159550780=37232=00        UNKNOWN 2023-12-30 16:17:05+00:00   137   \n",
      "1773490     516008271=37232=02         ACTIVE 2023-12-30 16:16:47+00:00  1810   \n",
      "1773491     577000027=37232=05        UNKNOWN 2023-12-30 16:16:29+00:00   137   \n",
      "\n",
      "         ROUTE   RUN RT_AREA  RTA_COUNT  WEGO_COUNT FIRST_NAME     LAST_NAME  \\\n",
      "1773392     55  5504    WeGo          0           1        NaN           NaN   \n",
      "1773393     18  1800    WeGo          0           1      Erfan  PapariDianat   \n",
      "1773394     22  2200    WeGo          0           1        NaN           NaN   \n",
      "1773395     23  2311    WeGo          0           1        NaN           NaN   \n",
      "1773396      7   702    WeGo          0           1      Navya     Nagireddy   \n",
      "...        ...   ...     ...        ...         ...        ...           ...   \n",
      "1773487     52  5212    WeGo          0           1        NaN           NaN   \n",
      "1773488     56  5601    WeGo          0           1        NaN           NaN   \n",
      "1773489     56  5601    WeGo          0           1        NaN           NaN   \n",
      "1773490      3   301    WeGo          0           1  Nathaniel        Sparks   \n",
      "1773491     56  5601    WeGo          0           1        NaN           NaN   \n",
      "\n",
      "        EMPLOYEE_OR_STUDENT CAMPUS_ID MONTH_YEAR  \n",
      "1773392                 NaN       NaN    2023-12  \n",
      "1773393            EMPLOYEE   paparie    2023-12  \n",
      "1773394                 NaN       NaN    2023-12  \n",
      "1773395                 NaN       NaN    2023-12  \n",
      "1773396            EMPLOYEE   nagiren    2023-12  \n",
      "...                     ...       ...        ...  \n",
      "1773487                 NaN       NaN    2023-12  \n",
      "1773488                 NaN       NaN    2023-12  \n",
      "1773489                 NaN       NaN    2023-12  \n",
      "1773490            EMPLOYEE  sparksnl    2023-12  \n",
      "1773491                 NaN       NaN    2023-12  \n",
      "\n",
      "[100 rows x 14 columns]\n",
      "     MONTH_YEAR  ROUTE    0\n",
      "3770    2023-12     79   52\n",
      "3771    2023-12     84   52\n",
      "3772    2023-12     86   17\n",
      "3773    2023-12     87  400\n",
      "3774    2023-12     88   11\n",
      "3775    2023-12     89   15\n",
      "3776    2023-12     93   11\n",
      "3777    2023-12     94   25\n",
      "3778    2023-12     95   63\n",
      "3779    2023-12     97    7\n",
      "['2017-01' '2017-02' '2017-03' '2017-04' '2017-05' '2017-06' '2017-07'\n",
      " '2017-08' '2017-09' '2017-10' '2017-11' '2017-12' '2018-01' '2018-02'\n",
      " '2018-03' '2018-04' '2018-05' '2018-06' '2018-07' '2018-08' '2018-09'\n",
      " '2018-10' '2018-11' '2018-12' '2019-01' '2019-02' '2019-03' '2019-04'\n",
      " '2019-05' '2019-06' '2019-07' '2019-08' '2019-09' '2019-10' '2019-11'\n",
      " '2019-12' '2020-01' '2020-02' '2020-03' '2020-04' '2020-05' '2020-06'\n",
      " '2020-07' '2020-08' '2020-09' '2020-10' '2020-11' '2020-12' '2021-01'\n",
      " '2021-02' '2021-03' '2021-04' '2021-05' '2021-06' '2021-07' '2021-08'\n",
      " '2021-09' '2021-10' '2021-11' '2021-12' '2022-01' '2022-02' '2022-03'\n",
      " '2022-04' '2022-05' '2022-06' '2022-07' '2022-08' '2022-09' '2022-10'\n",
      " '2022-11' '2022-12' '2023-01' '2023-02' '2023-03' '2023-04' '2023-05'\n",
      " '2023-06' '2023-07' '2023-08' '2023-09' '2023-10' '2023-11' '2023-12']\n",
      "['2023-10' '2023-11' '2023-12']\n"
     ]
    }
   ],
   "source": [
    "top6df = df.drop(['CARDOFFICE_CARD_NUMBER', 'CARD_ID_STATUS', 'RIDE_DATE', 'BUS', 'RUN', 'RT_AREA', 'RTA_COUNT', 'WEGO_COUNT', 'FIRST_NAME', 'LAST_NAME', 'EMPLOYEE_OR_STUDENT', 'CAMPUS_ID'], axis=1)\n",
    "check_pre_grouping = df[df['MONTH_YEAR'].isin(['2023-10', '2023-11', '2023-12'])]\n",
    "print(\"Pre_grouping\", check_pre_grouping['MONTH_YEAR'].unique())\n",
    "# print all of the unique routes during the last 3 months of 2023\n",
    "print(\"check_pre_grouping\", check_pre_grouping.head(100))\n",
    "\n",
    "new = top6df.groupby(['MONTH_YEAR', 'ROUTE']).size().reset_index()\n",
    "# print(new.tail(10))\n",
    "# print(new['MONTH_YEAR'].unique())\n",
    "# check_months = new[new['MONTH_YEAR'].isin(['2023-10', '2023-11', '2023-12'])]\n",
    "# print(check_months['MONTH_YEAR'].unique())"
   ]
  }
 ],
 "metadata": {
  "kernelspec": {
   "display_name": "vanderbilt_movevu",
   "language": "python",
   "name": "python3"
  },
  "language_info": {
   "codemirror_mode": {
    "name": "ipython",
    "version": 3
   },
   "file_extension": ".py",
   "mimetype": "text/x-python",
   "name": "python",
   "nbconvert_exporter": "python",
   "pygments_lexer": "ipython3",
   "version": "3.12.2"
  }
 },
 "nbformat": 4,
 "nbformat_minor": 2
}
